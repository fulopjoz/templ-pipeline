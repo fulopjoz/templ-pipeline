{
 "cells": [
  {
   "cell_type": "markdown",
   "id": "7fc4ffcd",
   "metadata": {},
   "source": [
    "\n",
    "# TEMPL Core Usage Demo\n",
    "\n",
    "This notebook mirrors the core workflow shown in Figure&nbsp;1. Each section calls the same functions exported from `templ_pipeline.core` so you can see how the modules behind Panel A (reference alignment) and Panel B (pose generation) are used in practice.\n",
    "\n",
    "![Workflow](../figure1_A_B.png)\n",
    "\n",
    "\n",
    "For module-by-module context see [`templ_pipeline/core/README.md`](templ_pipeline/core/README.md); installation and CLI usage live in the [project README](../README.md)."
   ]
  },
  {
   "cell_type": "markdown",
   "id": "a95dea6b",
   "metadata": {},
   "source": [
    "\n",
    "## Environment Setup\n",
    "\n",
    "Locate the repository root, ensure example assets are available, and create an output directory for the demo runs.\n"
   ]
  },
  {
   "cell_type": "code",
   "execution_count": 1,
   "id": "0649b979",
   "metadata": {
    "execution": {
     "iopub.execute_input": "2025-09-26T12:48:27.235886Z",
     "iopub.status.busy": "2025-09-26T12:48:27.235776Z",
     "iopub.status.idle": "2025-09-26T12:48:27.255265Z",
     "shell.execute_reply": "2025-09-26T12:48:27.254293Z"
    }
   },
   "outputs": [
    {
     "name": "stdout",
     "output_type": "stream",
     "text": [
      "Repository root detected.\n",
      "Data directory: data\n",
      "Output directory: output/templ_demo_notebook\n",
      "PDB lookup prepared: True\n"
     ]
    }
   ],
   "source": [
    "\n",
    "from __future__ import annotations\n",
    "\n",
    "import atexit\n",
    "import os\n",
    "import shutil\n",
    "import sys\n",
    "import warnings\n",
    "from pathlib import Path\n",
    "\n",
    "warnings.filterwarnings('ignore', category=UserWarning, module='tqdm')\n",
    "try:\n",
    "    from tqdm import TqdmWarning\n",
    "except Exception:\n",
    "    TqdmWarning = None\n",
    "else:\n",
    "    warnings.filterwarnings('ignore', category=TqdmWarning)\n",
    "\n",
    "def find_repo_root(marker: str = 'pyproject.toml') -> Path:\n",
    "    current = Path.cwd().resolve()\n",
    "    for candidate in (current, *current.parents):\n",
    "        if (candidate / marker).exists():\n",
    "            return candidate\n",
    "    raise FileNotFoundError(f'Could not locate {marker} above {current}')\n",
    "\n",
    "PROJECT_ROOT = find_repo_root()\n",
    "os.chdir(PROJECT_ROOT)\n",
    "if str(PROJECT_ROOT) not in sys.path:\n",
    "    sys.path.insert(0, str(PROJECT_ROOT))\n",
    "\n",
    "DATA_DIR = Path('data')\n",
    "EXAMPLE_DIR = DATA_DIR / 'example'\n",
    "PDB_FILE = EXAMPLE_DIR / '2ETR.pdb'\n",
    "EMBEDDING_FILE = DATA_DIR / 'embeddings' / 'templ_protein_embeddings_v1.0.0.npz'\n",
    "\n",
    "DEMO_PDB_ID = '2ETR'\n",
    "DEMO_PDB_ID_UPPER = DEMO_PDB_ID.upper()\n",
    "DEMO_SMILES = 'c1ncccc1NC(=O)C1CCNCC1'\n",
    "\n",
    "OUTPUT_DIR = Path('output/templ_demo_notebook')\n",
    "OUTPUT_DIR.mkdir(parents=True, exist_ok=True)\n",
    "\n",
    "for required_path in (PDB_FILE, EMBEDDING_FILE):\n",
    "    if not required_path.exists():\n",
    "        raise FileNotFoundError(required_path)\n",
    "\n",
    "pdb_lookup_dir = Path('data/pdbs')\n",
    "pdb_lookup_dir.mkdir(parents=True, exist_ok=True)\n",
    "lookup_target = pdb_lookup_dir / f'{DEMO_PDB_ID}.pdb'\n",
    "created_lookup = False\n",
    "if not lookup_target.exists() or lookup_target.stat().st_mtime < PDB_FILE.stat().st_mtime:\n",
    "    shutil.copy2(PDB_FILE, lookup_target)\n",
    "    created_lookup = True\n",
    "\n",
    "def _cleanup_lookup() -> None:\n",
    "    if created_lookup and lookup_target.exists():\n",
    "        try:\n",
    "            lookup_target.unlink()\n",
    "        except OSError:\n",
    "            pass\n",
    "\n",
    "atexit.register(_cleanup_lookup)\n",
    "\n",
    "print('Repository root detected.')\n",
    "print(f'Data directory: {DATA_DIR}')\n",
    "print(f'Output directory: {OUTPUT_DIR}')\n",
    "print(f'PDB lookup prepared: {lookup_target.exists()}')\n"
   ]
  },
  {
   "cell_type": "markdown",
   "id": "7eb8cf8d",
   "metadata": {},
   "source": [
    "## Panel A – Reference Alignment\n",
    "\n",
    "Generate the target protein embedding and retrieve closely matching templates from the embedding database (`embedding.py`). The selector passes `allow_self_as_template=True` so the native complex stays eligible and appears first when it exists in the reference set (`2ETR` in this demo)."
   ]
  },
  {
   "cell_type": "code",
   "execution_count": 2,
   "id": "056b0130",
   "metadata": {
    "execution": {
     "iopub.execute_input": "2025-09-26T12:48:27.257135Z",
     "iopub.status.busy": "2025-09-26T12:48:27.256992Z",
     "iopub.status.idle": "2025-09-26T12:48:31.924370Z",
     "shell.execute_reply": "2025-09-26T12:48:31.923882Z"
    }
   },
   "outputs": [
    {
     "name": "stdout",
     "output_type": "stream",
     "text": [
      "Target chains: A\n",
      "Top template candidates:\n",
      "  2ETR (similarity: 1.0)\n",
      "  2ESM (similarity: 0.9984164237976074)\n",
      "  3TWJ (similarity: 0.9981651306152344)\n",
      "  2ETK (similarity: 0.9977912306785583)\n",
      "  6ED6 (similarity: 0.9962191581726074)\n"
     ]
    }
   ],
   "source": [
    "\n",
    "from templ_pipeline.core import EmbeddingManager, select_templates\n",
    "\n",
    "manager = EmbeddingManager(embedding_path=str(EMBEDDING_FILE))\n",
    "target_embedding, target_chains = manager.get_embedding(\n",
    "    DEMO_PDB_ID_UPPER, pdb_file=str(PDB_FILE)\n",
    ")\n",
    "\n",
    "template_hits = select_templates(\n",
    "    target_pdb_id=DEMO_PDB_ID_UPPER,\n",
    "    target_embedding=target_embedding,\n",
    "    k=5,\n",
    "    similarity_threshold=0.7,\n",
    "    return_similarities=True,\n",
    "    allow_self_as_template=True,\n",
    ")\n",
    "\n",
    "top_template_id, top_similarity = template_hits[0]\n",
    "print(f'Target chains: {target_chains}')\n",
    "print('Top template candidates:')\n",
    "for pdb_id, similarity in template_hits[:5]:\n",
    "    print(f'  {pdb_id} (similarity: {similarity})')\n"
   ]
  },
  {
   "cell_type": "markdown",
   "id": "acc58708",
   "metadata": {},
   "source": [
    "### Align the Highest-Scoring Template\n",
    "\n",
    "`templates.py` loads the protein structure, resolves file paths, and superimposes the top template ligand into the target frame. Because the native complex is returned, this step generates the aligned `2ETR` ligand that downstream steps will reuse."
   ]
  },
  {
   "cell_type": "code",
   "execution_count": 3,
   "id": "9239972c",
   "metadata": {
    "execution": {
     "iopub.execute_input": "2025-09-26T12:48:31.926237Z",
     "iopub.status.busy": "2025-09-26T12:48:31.925693Z",
     "iopub.status.idle": "2025-09-26T12:48:32.172660Z",
     "shell.execute_reply": "2025-09-26T12:48:32.172184Z"
    }
   },
   "outputs": [
    {
     "name": "stdout",
     "output_type": "stream",
     "text": [
      "Aligned template: 2ETR\n",
      "Conformers available: 1\n"
     ]
    }
   ],
   "source": [
    "\n",
    "from rdkit import Chem\n",
    "\n",
    "from templ_pipeline.core import (\n",
    "    load_reference_protein,\n",
    "    ligand_path,\n",
    "    pdb_path,\n",
    "    transform_ligand,\n",
    ")\n",
    "\n",
    "reference_structure = load_reference_protein(str(PDB_FILE))\n",
    "template_supplier = Chem.SDMolSupplier(ligand_path(top_template_id), removeHs=False)\n",
    "template_ligand = next(m for m in template_supplier if m is not None)\n",
    "aligned_template = transform_ligand(\n",
    "    mob_pdb=pdb_path(top_template_id),\n",
    "    lig=template_ligand,\n",
    "    pid=top_template_id,\n",
    "    ref_struct=reference_structure,\n",
    ")\n",
    "\n",
    "if aligned_template is None:\n",
    "    raise RuntimeError('Template alignment failed')\n",
    "\n",
    "print(f'Aligned template: {top_template_id}')\n",
    "print(f'Conformers available: {aligned_template.GetNumConformers()}')\n"
   ]
  },
  {
   "cell_type": "markdown",
   "id": "d5144ce3",
   "metadata": {},
   "source": [
    "\n",
    "## Panel B – TEMPL Core\n",
    "\n",
    "Validate the input ligand (`chemistry.py`), compute the maximum common substructure (`mcs.py`), embed constrained conformers, and rank poses (`scoring.py`).\n"
   ]
  },
  {
   "cell_type": "markdown",
   "id": "dc6d1271",
   "metadata": {},
   "source": [
    "### Validate the Target Ligand\n",
    "\n",
    "Run `chemistry.validate_target_molecule()` to ensure the input SMILES is suitable for pose generation."
   ]
  },
  {
   "cell_type": "code",
   "execution_count": 4,
   "id": "0ad57ef3",
   "metadata": {
    "execution": {
     "iopub.execute_input": "2025-09-26T12:48:32.174508Z",
     "iopub.status.busy": "2025-09-26T12:48:32.174289Z",
     "iopub.status.idle": "2025-09-26T12:48:32.178488Z",
     "shell.execute_reply": "2025-09-26T12:48:32.178006Z"
    }
   },
   "outputs": [
    {
     "name": "stdout",
     "output_type": "stream",
     "text": [
      "Ligand validation passed: True\n"
     ]
    }
   ],
   "source": [
    "\n",
    "from templ_pipeline.core import validate_target_molecule\n",
    "\n",
    "from rdkit import Chem\n",
    "\n",
    "target_mol = Chem.AddHs(Chem.MolFromSmiles(DEMO_SMILES))\n",
    "is_valid, validation_msg = validate_target_molecule(\n",
    "    target_mol,\n",
    "    mol_name='demo_ligand',\n",
    "    pdb_id=DEMO_PDB_ID_UPPER,\n",
    ")\n",
    "\n",
    "print(f'Ligand validation passed: {is_valid}')\n",
    "if validation_msg:\n",
    "    print(f'Validation message: {validation_msg}')\n"
   ]
  },
  {
   "cell_type": "markdown",
   "id": "27c80775",
   "metadata": {},
   "source": [
    "### Detect the Shared Substructure\n",
    "\n",
    "Use `mcs.find_mcs()` to compute the maximum common substructure between the validated ligand and the aligned template."
   ]
  },
  {
   "cell_type": "code",
   "execution_count": 5,
   "id": "e314ddd8",
   "metadata": {
    "execution": {
     "iopub.execute_input": "2025-09-26T12:48:32.180255Z",
     "iopub.status.busy": "2025-09-26T12:48:32.180180Z",
     "iopub.status.idle": "2025-09-26T12:48:32.228994Z",
     "shell.execute_reply": "2025-09-26T12:48:32.228399Z"
    }
   },
   "outputs": [
    {
     "name": "stdout",
     "output_type": "stream",
     "text": [
      "MCS SMARTS: c:c(:c:c)-NC(=O)-C(-CC)-CC\n",
      "MCS atom count: 12\n"
     ]
    }
   ],
   "source": [
    "\n",
    "from templ_pipeline.core import find_mcs\n",
    "\n",
    "_, mcs_smarts, mcs_info = find_mcs(target_mol, [aligned_template], return_details=True)\n",
    "print(f'MCS SMARTS: {mcs_smarts}')\n",
    "print(f'MCS atom count: {mcs_info.get(\"atom_count\")}')\n"
   ]
  },
  {
   "cell_type": "markdown",
   "id": "69f0931d",
   "metadata": {},
   "source": [
    "### Generate and Rank Constrained Poses\n",
    "\n",
    "`mcs.constrained_embed()` produces conformers consistent with the MCS, and `scoring.select_best()` ranks them using the combined scoring metric."
   ]
  },
  {
   "cell_type": "code",
   "execution_count": 6,
   "id": "bfaed0e1",
   "metadata": {
    "execution": {
     "iopub.execute_input": "2025-09-26T12:48:32.231013Z",
     "iopub.status.busy": "2025-09-26T12:48:32.230924Z",
     "iopub.status.idle": "2025-09-26T12:48:34.310616Z",
     "shell.execute_reply": "2025-09-26T12:48:34.310100Z"
    }
   },
   "outputs": [
    {
     "name": "stdout",
     "output_type": "stream",
     "text": [
      "Generated poses: 200\n",
      "Top pose scores: {'shape': 0.805701187671031, 'color': 0.3545089223534589, 'combo': 0.580105055012245}\n"
     ]
    }
   ],
   "source": [
    "\n",
    "from templ_pipeline.core import constrained_embed, select_best\n",
    "\n",
    "poses = constrained_embed(\n",
    "    target_mol,\n",
    "    aligned_template,\n",
    "    mcs_smarts,\n",
    "    n_conformers=200,\n",
    ")\n",
    "\n",
    "ranked_poses = select_best(\n",
    "    poses,\n",
    "    aligned_template,\n",
    "    return_all_ranked=True,\n",
    ")\n",
    "\n",
    "top_pose, scores, rank = ranked_poses[0]\n",
    "print(f'Generated poses: {poses.GetNumConformers()}')\n",
    "print(f'Top pose scores: {scores}')\n"
   ]
  },
  {
   "cell_type": "markdown",
   "id": "a3a27d9d",
   "metadata": {},
   "source": [
    "\n",
    "## Pipeline Orchestration\n",
    "\n",
    "The high-level helpers assemble the same components into a full workflow.\n"
   ]
  },
  {
   "cell_type": "code",
   "execution_count": 7,
   "id": "ed83cb18",
   "metadata": {
    "execution": {
     "iopub.execute_input": "2025-09-26T12:48:34.312526Z",
     "iopub.status.busy": "2025-09-26T12:48:34.312450Z",
     "iopub.status.idle": "2025-09-26T12:48:44.706247Z",
     "shell.execute_reply": "2025-09-26T12:48:44.704931Z"
    }
   },
   "outputs": [
    {
     "name": "stdout",
     "output_type": "stream",
     "text": [
      "Running high-level pipeline entry point...\n",
      "High-level call completed: True\n"
     ]
    }
   ],
   "source": [
    "\n",
    "from templ_pipeline.core import run_from_pdb_and_smiles\n",
    "\n",
    "print('Running high-level pipeline entry point...')\n",
    "high_level_success = run_from_pdb_and_smiles(\n",
    "    pdb_id=DEMO_PDB_ID,\n",
    "    smiles=DEMO_SMILES,\n",
    "    output_dir=str(OUTPUT_DIR),\n",
    ")\n",
    "print(f'High-level call completed: {high_level_success}')\n"
   ]
  },
  {
   "cell_type": "code",
   "execution_count": 8,
   "id": "bf513c1f",
   "metadata": {
    "execution": {
     "iopub.execute_input": "2025-09-26T12:48:44.707877Z",
     "iopub.status.busy": "2025-09-26T12:48:44.707766Z",
     "iopub.status.idle": "2025-09-26T12:48:55.472062Z",
     "shell.execute_reply": "2025-09-26T12:48:55.471378Z"
    }
   },
   "outputs": [
    {
     "name": "stdout",
     "output_type": "stream",
     "text": [
      "Running pipeline with explicit configuration...\n",
      "Configuration-based run completed: True\n"
     ]
    }
   ],
   "source": [
    "\n",
    "from templ_pipeline.core import PipelineConfig, run_pipeline\n",
    "\n",
    "config = PipelineConfig(\n",
    "    target_pdb=str(PDB_FILE),\n",
    "    target_smiles=DEMO_SMILES,\n",
    "    output_dir=str(OUTPUT_DIR),\n",
    "    data_dir='data',\n",
    "    n_confs=200,\n",
    "    n_workers=10,\n",
    "    sim_threshold=0.9,\n",
    "    ca_rmsd_threshold=10.0,\n",
    ")\n",
    "\n",
    "print('Running pipeline with explicit configuration...')\n",
    "config_success = run_pipeline(config)\n",
    "print(f'Configuration-based run completed: {config_success}')\n"
   ]
  },
  {
   "cell_type": "markdown",
   "id": "830fb231",
   "metadata": {},
   "source": [
    "\n",
    "## Outputs\n",
    "\n",
    "Inspect the most recent pipeline run written to `output/templ_demo_notebook`.\n"
   ]
  },
  {
   "cell_type": "code",
   "execution_count": 9,
   "id": "cc3358a0",
   "metadata": {
    "execution": {
     "iopub.execute_input": "2025-09-26T12:48:55.473787Z",
     "iopub.status.busy": "2025-09-26T12:48:55.473689Z",
     "iopub.status.idle": "2025-09-26T12:48:55.476911Z",
     "shell.execute_reply": "2025-09-26T12:48:55.476528Z"
    }
   },
   "outputs": [
    {
     "name": "stdout",
     "output_type": "stream",
     "text": [
      "Latest run: output/templ_demo_notebook/templ_run_20250926_145408_2etr\n",
      "  2etr_all_poses.sdf (621.4 KB)\n",
      "  2etr_pipeline_results.json (2.0 KB)\n",
      "  2etr_template.sdf (3.5 KB)\n",
      "  2etr_top3_poses.sdf (9.2 KB)\n"
     ]
    }
   ],
   "source": [
    "\n",
    "run_dirs = sorted(\n",
    "    [path for path in OUTPUT_DIR.iterdir() if path.is_dir()],\n",
    "    key=lambda path: path.name,\n",
    ")\n",
    "\n",
    "if not run_dirs:\n",
    "    print('No output directories created yet.')\n",
    "else:\n",
    "    latest_dir = run_dirs[-1]\n",
    "    print(f'Latest run: output/templ_demo_notebook/{latest_dir.name}')\n",
    "    for file_path in sorted(latest_dir.glob('*')):\n",
    "        if file_path.suffix not in {'.sdf', '.json'}:\n",
    "            continue\n",
    "        size_kb = file_path.stat().st_size / 1024\n",
    "        print(f\"  {file_path.name} ({size_kb:.1f} KB)\")\n"
   ]
  }
 ],
 "metadata": {
  "kernelspec": {
   "display_name": ".templ",
   "language": "python",
   "name": "python3"
  },
  "language_info": {
   "codemirror_mode": {
    "name": "ipython",
    "version": 3
   },
   "file_extension": ".py",
   "mimetype": "text/x-python",
   "name": "python",
   "nbconvert_exporter": "python",
   "pygments_lexer": "ipython3",
   "version": "3.12.9"
  }
 },
 "nbformat": 4,
 "nbformat_minor": 5
}
