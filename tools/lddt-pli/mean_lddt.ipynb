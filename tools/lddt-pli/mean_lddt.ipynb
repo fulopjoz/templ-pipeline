{
 "cells": [
  {
   "cell_type": "code",
   "execution_count": null,
   "id": "5c472def-c892-4007-868c-d58ef4062ba2",
   "metadata": {},
   "outputs": [],
   "source": [
    "import pandas as pd\n",
    "import os\n",
    "import numpy as np\n",
    "\n",
    "files = os.listdir()\n",
    "for file in sorted(files):\n",
    "    if \"output\" in file:\n",
    "        task = \"_\".join(file.split(\".\")[0].split(\"_\")[1:])\n",
    "        df = pd.read_csv(file)\n",
    "        mean = round(np.mean(df[\"score\"]),3)\n",
    "        std = round(np.std(df[\"score\"]),3)\n",
    "        print(task,mean,std)"
   ]
  },
  {
   "cell_type": "code",
   "execution_count": null,
   "id": "40264dc6-03ee-4aaa-a166-c07ac5959e8c",
   "metadata": {},
   "outputs": [],
   "source": []
  }
 ],
 "metadata": {
  "kernelspec": {
   "display_name": "Python 3 (ipykernel)",
   "language": "python",
   "name": "python3"
  },
  "language_info": {
   "codemirror_mode": {
    "name": "ipython",
    "version": 3
   },
   "file_extension": ".py",
   "mimetype": "text/x-python",
   "name": "python",
   "nbconvert_exporter": "python",
   "pygments_lexer": "ipython3",
   "version": "3.12.2"
  }
 },
 "nbformat": 4,
 "nbformat_minor": 5
}
