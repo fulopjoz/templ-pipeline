{
 "cells": [
  {
   "cell_type": "markdown",
   "id": "e158b82b-2121-4a49-b840-fdcce17c053c",
   "metadata": {},
   "source": [
    "# Preparation scripts\n",
    "this notebook prepares polaris-related files to be in the format the lddt script accepts"
   ]
  },
  {
   "cell_type": "code",
   "execution_count": 40,
   "id": "f4216eac-990f-4f1c-a4bc-f37fb96db428",
   "metadata": {},
   "outputs": [],
   "source": [
    "from rdkit import RDLogger                                                                                                                                                               \n",
    "from rdkit import Chem\n",
    "RDLogger.DisableLog('rdApp.*')\n",
    "MERSpath = \"/home/mersA_apo.pdb\"\n",
    "SARSpath = \"/home/sarsA_apo.pdb\""
   ]
  },
  {
   "cell_type": "code",
   "execution_count": 41,
   "id": "5af0d0dd-6991-4272-8734-0c34d797f202",
   "metadata": {},
   "outputs": [],
   "source": [
    "from pathlib import Path\n",
    "test_poses = [m for m in Chem.SDMolSupplier(\"test_poses_with_properties.sdf\")]\n",
    "test_poses[0].GetPropsAsDict(includePrivate=True)\n",
    "name_to_prot = {}\n",
    "liglocs = []\n",
    "Path(\"polaris_poses\").mkdir(parents=True, exist_ok=True)\n",
    "for i,m in enumerate(test_poses):\n",
    "    wri = Chem.SDWriter(f\"polaris_poses/Test_{770+i}.sdf\")\n",
    "    if m.GetProp(\"Protein_Label\") == \"MERS-CoV Mpro\":\n",
    "        name_to_prot[770+i] = MERSpath\n",
    "    else:\n",
    "        name_to_prot[770+i] = SARSpath\n",
    "    liglocs.append(f\"/home/polaris_poses/Test_{770+i}.sdf\")\n",
    "    wri.write(m)\n",
    "    wri.close()"
   ]
  },
  {
   "cell_type": "code",
   "execution_count": 52,
   "id": "2f7b119b-2287-4ae9-a8df-4d2085733ead",
   "metadata": {},
   "outputs": [
    {
     "name": "stdout",
     "output_type": "stream",
     "text": [
      "default 195 906 polaris/ablation_study_results_20250812_091259/poses/default/Test_906.pdb_idx_0153/Test_906.pdb_idx_0153_combo_20250812_091409.sdf\n",
      "confs_1 195 906 polaris/ablation_study_results_20250812_091259/poses/confs_1/Test_906.pdb_idx_0153/Test_906.pdb_idx_0153_combo_20250812_095010.sdf\n",
      "confs_5 195 906 polaris/ablation_study_results_20250812_091259/poses/confs_5/Test_906.pdb_idx_0153/Test_906.pdb_idx_0153_combo_20250812_095020.sdf\n",
      "confs_10 195 906 polaris/ablation_study_results_20250812_091259/poses/confs_10/Test_906.pdb_idx_0153/Test_906.pdb_idx_0153_combo_20250812_095033.sdf\n",
      "confs_20 195 906 polaris/ablation_study_results_20250812_091259/poses/confs_20/Test_906.pdb_idx_0153/Test_906.pdb_idx_0153_combo_20250812_095054.sdf\n",
      "confs_50 195 906 polaris/ablation_study_results_20250812_091259/poses/confs_50/Test_906.pdb_idx_0153/Test_906.pdb_idx_0153_combo_20250812_095129.sdf\n",
      "confs_100 195 906 polaris/ablation_study_results_20250812_091259/poses/confs_100/Test_906.pdb_idx_0153/Test_906.pdb_idx_0153_combo_20250812_095248.sdf\n",
      "mers_native_only 195 906 polaris/ablation_study_results_20250812_091259/poses/mers_native_only/Test_906.pdb_idx_0153/Test_906.pdb_idx_0153_combo_20250812_091650.sdf\n",
      "mmff94x 195 906 polaris/ablation_study_results_20250812_091259/poses/mmff94x/Test_906.pdb_idx_0153/Test_906.pdb_idx_0153_combo_20250812_094426.sdf\n",
      "no_realign 195 906 polaris/ablation_study_results_20250812_091259/poses/no_realign/Test_906.pdb_idx_0153/Test_906.pdb_idx_0153_combo_20250812_093922.sdf\n",
      "unconstrained 195 906 polaris/ablation_study_results_20250812_091259/poses/unconstrained/Test_906.pdb_idx_0153/Test_906.pdb_idx_0153_combo_20250812_092736.sdf\n"
     ]
    }
   ],
   "source": [
    "import os\n",
    "import csv\n",
    "for task in [\"default\",\"confs_1\",\"confs_5\",\"confs_10\",\"confs_20\",\"confs_50\",\"confs_100\",\"mers_native_only\",\"mmff94x\",\"no_realign\",\"unconstrained\"]:\n",
    "    mypath = f\"polaris/ablation_study_results_20250812_091259/poses/{task}/\"\n",
    "    lddt_input = []\n",
    "    for path, dirs, files in os.walk(mypath):\n",
    "        for name in (files + dirs):\n",
    "            if \"combo\" in name:\n",
    "                sdfpath = os.path.join(path, name)\n",
    "                pose_number = int(name.split(\"_\")[1].split(\".\")[0])\n",
    "                lddt_input.append((name_to_prot[pose_number],f\"/home/polaris_poses/Test_{pose_number}.sdf\",f\"/home/{sdfpath}\"))\n",
    "                break # one per dir\n",
    "    print(task,len(lddt_input),pose_number,sdfpath)                \n",
    "    \n",
    "    with open(f'input_polaris_{task}.csv', 'w', newline='', encoding='utf-8') as csvfile:\n",
    "        writer = csv.writer(csvfile, delimiter=',',\n",
    "                                quotechar='\"', quoting=csv.QUOTE_MINIMAL,lineterminator='\\n')\n",
    "        writer.writerow([\"apo\",\"ref\",\"lig\"])\n",
    "        for line in lddt_input:\n",
    "            writer.writerow(line)"
   ]
  },
  {
   "cell_type": "code",
   "execution_count": 55,
   "id": "51ea74e6-b72c-48ed-a602-e1b157e39373",
   "metadata": {},
   "outputs": [
    {
     "name": "stdout",
     "output_type": "stream",
     "text": [
      "shape_metric 195 906 polaris/ablation_study_results_20250812_091259/poses/shape_metric/Test_906.pdb_idx_0153/Test_906.pdb_idx_0153_shape_20250812_091921.sdf\n",
      "unconstrained 195 906 polaris/ablation_study_results_20250812_091259/poses/unconstrained/Test_906.pdb_idx_0153/Test_906.pdb_idx_0153_shape_20250812_092736.sdf\n"
     ]
    }
   ],
   "source": [
    "import os\n",
    "import csv\n",
    "for task in [\"shape_metric\",\"unconstrained\"]:\n",
    "    mypath = f\"polaris/ablation_study_results_20250812_091259/poses/{task}/\"\n",
    "    lddt_input = []\n",
    "    for path, dirs, files in os.walk(mypath):\n",
    "        for name in (files + dirs):\n",
    "            if \"shape\" in name:\n",
    "                sdfpath = os.path.join(path, name)\n",
    "                pose_number = int(name.split(\"_\")[1].split(\".\")[0])\n",
    "                lddt_input.append((name_to_prot[pose_number],f\"/home/polaris_poses/Test_{pose_number}.sdf\",f\"/home/{sdfpath}\"))\n",
    "                break # one per dir\n",
    "    print(task,len(lddt_input),pose_number,sdfpath)                \n",
    "    \n",
    "    with open(f'input_polaris_{task}_shape.csv', 'w', newline='', encoding='utf-8') as csvfile:\n",
    "        writer = csv.writer(csvfile, delimiter=',',\n",
    "                                quotechar='\"', quoting=csv.QUOTE_MINIMAL,lineterminator='\\n')\n",
    "        writer.writerow([\"apo\",\"ref\",\"lig\"])\n",
    "        for line in lddt_input:\n",
    "            writer.writerow(line)"
   ]
  },
  {
   "cell_type": "code",
   "execution_count": null,
   "id": "33011539-44d2-4140-9c73-6e954765c868",
   "metadata": {},
   "outputs": [],
   "source": [
    "\"polaris/ablation_study_results_20250812_091259/poses/"
   ]
  },
  {
   "cell_type": "code",
   "execution_count": 56,
   "id": "a0e86e71-77c8-405f-8aab-06c706a3fefa",
   "metadata": {},
   "outputs": [
    {
     "name": "stdout",
     "output_type": "stream",
     "text": [
      "color_metric 195 906 polaris/ablation_study_results_20250812_091259/poses/color_metric/Test_906.pdb_idx_0153/Test_906.pdb_idx_0153_color_20250812_092323.sdf\n",
      "unconstrained 195 906 polaris/ablation_study_results_20250812_091259/poses/unconstrained/Test_906.pdb_idx_0153/Test_906.pdb_idx_0153_color_20250812_092736.sdf\n"
     ]
    }
   ],
   "source": [
    "import os\n",
    "import csv\n",
    "for task in [\"color_metric\",\"unconstrained\"]:\n",
    "    mypath = f\"polaris/ablation_study_results_20250812_091259/poses/{task}/\"\n",
    "    lddt_input = []\n",
    "    for path, dirs, files in os.walk(mypath):\n",
    "        for name in (files + dirs):\n",
    "            if \"color\" in name:\n",
    "                sdfpath = os.path.join(path, name)\n",
    "                pose_number = int(name.split(\"_\")[1].split(\".\")[0])\n",
    "                lddt_input.append((name_to_prot[pose_number],f\"/home/polaris_poses/Test_{pose_number}.sdf\",f\"/home/{sdfpath}\"))\n",
    "                break # one per dir\n",
    "    print(task,len(lddt_input),pose_number,sdfpath)                \n",
    "    \n",
    "    with open(f'input_polaris_{task}_color.csv', 'w', newline='', encoding='utf-8') as csvfile:\n",
    "        writer = csv.writer(csvfile, delimiter=',',\n",
    "                                quotechar='\"', quoting=csv.QUOTE_MINIMAL,lineterminator='\\n')\n",
    "        writer.writerow([\"apo\",\"ref\",\"lig\"])\n",
    "        for line in lddt_input:\n",
    "            writer.writerow(line)"
   ]
  },
  {
   "cell_type": "code",
   "execution_count": null,
   "id": "626a0ba6-224b-4774-bbfb-ea0c33860bc3",
   "metadata": {},
   "outputs": [],
   "source": []
  },
  {
   "cell_type": "code",
   "execution_count": null,
   "id": "e4af7f61-c38b-4f4b-8e1e-0287650cb539",
   "metadata": {},
   "outputs": [],
   "source": []
  }
 ],
 "metadata": {
  "kernelspec": {
   "display_name": "Python 3 (ipykernel)",
   "language": "python",
   "name": "python3"
  },
  "language_info": {
   "codemirror_mode": {
    "name": "ipython",
    "version": 3
   },
   "file_extension": ".py",
   "mimetype": "text/x-python",
   "name": "python",
   "nbconvert_exporter": "python",
   "pygments_lexer": "ipython3",
   "version": "3.12.2"
  }
 },
 "nbformat": 4,
 "nbformat_minor": 5
}
