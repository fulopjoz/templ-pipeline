{
 "cells": [
  {
   "cell_type": "markdown",
   "id": "4917def7-1be9-476c-8439-2ba3a8287edf",
   "metadata": {},
   "source": [
    "# Preparation scripts\n",
    "this notebook prepares posebusters-related files to be in the format the lddt script accepts"
   ]
  },
  {
   "cell_type": "code",
   "execution_count": 7,
   "id": "8cae6e1a-e1e1-4e9e-bb1b-5159b950d68c",
   "metadata": {},
   "outputs": [],
   "source": [
    "import os\n",
    "pdb2proteinpath = {}\n",
    "pdb2ligandpath = {}\n",
    "mypath = \"posebusters/posebusters_benchmark_set\"\n",
    "for path, dirs, files in os.walk(mypath):\n",
    "    for name in (files + dirs):\n",
    "        if \"pdb\" in name:\n",
    "            pdbid = name.split(\"_\")[0]\n",
    "            pdb2proteinpath[pdbid] = f\"/home/{os.path.join(path, name)}\"\n",
    "            ligand_name = \"_\".join(name.split(\"_\")[:2])+\"_ligand.sdf\"\n",
    "            pdb2ligandpath[pdbid] = f\"/home/{os.path.join(path, ligand_name)}\"\n",
    "        "
   ]
  },
  {
   "cell_type": "code",
   "execution_count": 13,
   "id": "4c54c8bf-447d-40cf-a21d-666d2a3e5b48",
   "metadata": {},
   "outputs": [],
   "source": [
    "import os\n",
    "from pathlib import Path\n",
    "from rdkit import Chem\n",
    "mypath = \"pb2\"\n",
    "Path(\"pb_proc\").mkdir(parents=True, exist_ok=True)\n",
    "lddt_input_val = []\n",
    "for path, dirs, files in os.walk(mypath):\n",
    "    for f in files:\n",
    "        if \"json\" in f:\n",
    "            pb_name=f.split(\"_\")[0]\n",
    "    for name in (files + dirs):\n",
    "        if \"top3_poses.sdf\" in name:\n",
    "            sdfpath = os.path.join(path, name)\n",
    "            try:\n",
    "                mol = [m for m in Chem.SDMolSupplier(sdfpath) if m.GetProp(\"metric\")==\"combo\"][0]\n",
    "                sdfloc = f\"pb_proc/{pb_name}.sdf\"\n",
    "                wri = Chem.SDWriter(sdfloc)\n",
    "                wri.write(mol)\n",
    "                wri.close()\n",
    "                apoloc = pdb2proteinpath[pb_name]\n",
    "                ligloc = pdb2ligandpath[pb_name]\n",
    "                lddt_input_val.append((apoloc,ligloc,f\"/home/{sdfloc}\"))\n",
    "            except Exception as e:\n",
    "                print(\"problem with \",name[-19:-15],e,name)\n",
    "\n",
    "import csv\n",
    "with open('input_pb.csv', 'w', newline='', encoding='utf-8') as csvfile:\n",
    "    writer = csv.writer(csvfile, delimiter=',',\n",
    "                            quotechar='\"', quoting=csv.QUOTE_MINIMAL,lineterminator='\\n')\n",
    "    writer.writerow([\"apo\",\"ref\",\"lig\"])\n",
    "    for line in lddt_input_val:\n",
    "        writer.writerow(line)"
   ]
  },
  {
   "cell_type": "code",
   "execution_count": null,
   "id": "02e7ccd5-d9c8-4fe5-b8da-5604abfba355",
   "metadata": {},
   "outputs": [],
   "source": []
  }
 ],
 "metadata": {
  "kernelspec": {
   "display_name": "Python 3 (ipykernel)",
   "language": "python",
   "name": "python3"
  },
  "language_info": {
   "codemirror_mode": {
    "name": "ipython",
    "version": 3
   },
   "file_extension": ".py",
   "mimetype": "text/x-python",
   "name": "python",
   "nbconvert_exporter": "python",
   "pygments_lexer": "ipython3",
   "version": "3.12.2"
  }
 },
 "nbformat": 4,
 "nbformat_minor": 5
}
