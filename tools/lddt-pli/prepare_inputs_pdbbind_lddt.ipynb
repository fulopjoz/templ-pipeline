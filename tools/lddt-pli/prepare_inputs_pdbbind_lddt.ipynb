{
 "cells": [
  {
   "cell_type": "markdown",
   "id": "92b51f80-3a53-417c-a97d-2120207e4d77",
   "metadata": {},
   "source": [
    "# Preparation scripts\n",
    "this notebook prepares pdbbind-related files to be in the format the lddt script accepts"
   ]
  },
  {
   "cell_type": "code",
   "execution_count": 63,
   "id": "cb5f83ae-177a-41df-a646-6874a71fd921",
   "metadata": {},
   "outputs": [],
   "source": [
    "from rdkit import RDLogger                                                                                                                                                               \n",
    "RDLogger.DisableLog('rdApp.*')\n",
    "pdb2uniprot = {}\n",
    "\n",
    "Path(\"processed_ligands\").mkdir(parents=True, exist_ok=True)\n",
    "mols = [m for m in Chem.SDMolSupplier(\"processed_ligands_new.sdf\")]\n",
    "for m in mols:\n",
    "    wri=Chem.SDWriter(f\"processed_ligands/{m.GetProp(\"_Name\")}.sdf\")\n",
    "    wri.write(m)\n",
    "    wri.close()\n",
    "    try:\n",
    "        pdb2uniprot[m.GetProp(\"_Name\")] = m.GetProp(\"_UniprotID\")\n",
    "    except:\n",
    "        pass"
   ]
  },
  {
   "cell_type": "code",
   "execution_count": 70,
   "id": "f8d0644f-3830-4ad2-940b-004cefd351ab",
   "metadata": {},
   "outputs": [],
   "source": [
    "pdbbindpath = \"PDBBind/\"\n",
    "pdb2paths = {}\n",
    "for path, dirs, files in os.walk(pdbbindpath):\n",
    "    for name in (files + dirs):\n",
    "        if \"_protein.pdb\" in name:\n",
    "            pdbpath = os.path.join(path, name)\n",
    "            ligandpath = os.path.join(path, f\"{name.split(\"_\")[0]}_ligand.sdf\")\n",
    "            pocketpath = os.path.join(path, f\"{name.split(\"_\")[0]}_protein.pdb\")\n",
    "\n",
    "            pdb_name = name.split(\"_\")[0]\n",
    "            pdb2paths[pdb_name] = (pocketpath,ligandpath)"
   ]
  },
  {
   "cell_type": "code",
   "execution_count": 71,
   "id": "5ef25e18-469e-4450-b15a-df6e6ac08c1a",
   "metadata": {},
   "outputs": [],
   "source": [
    "import os\n",
    "from pathlib import Path\n",
    "from rdkit import Chem\n",
    "mypath = \"pdbbind/benchmark_timesplit_20250812_081412/raw_results/timesplit/poses/\"\n",
    "Path(\"pdbbind_val_proc\").mkdir(parents=True, exist_ok=True)\n",
    "lddt_input_val = []\n",
    "for path, dirs, files in os.walk(mypath):\n",
    "    for name in (files + dirs):\n",
    "        if \"top3_poses.sdf\" in name:\n",
    "            sdfpath = os.path.join(path, name)\n",
    "            try:\n",
    "                mol = [m for m in Chem.SDMolSupplier(sdfpath) if m.GetProp(\"metric\")==\"combo\"][0]\n",
    "                pdbbind_name = path.split(\"/\")[-2]\n",
    "                sdfloc = f\"pdbbind_val_proc/{pdbbind_name}.sdf\"\n",
    "                wri = Chem.SDWriter(sdfloc)\n",
    "                wri.write(mol)\n",
    "                wri.close()\n",
    "                apoloc,_ = pdb2paths[pdbbind_name]\n",
    "                ligloc = f\"/home/processed_ligands/{pdbbind_name}.sdf\"\n",
    "                lddt_input_val.append((apoloc,ligloc,f\"/home/{sdfloc}\"))\n",
    "            except Exception as e:\n",
    "                print(\"problem with \",name[-19:-15],e,name)\n",
    "\n",
    "import csv\n",
    "with open('input_val.csv', 'w', newline='', encoding='utf-8') as csvfile:\n",
    "    writer = csv.writer(csvfile, delimiter=',',\n",
    "                            quotechar='\"', quoting=csv.QUOTE_MINIMAL,lineterminator='\\n')\n",
    "    writer.writerow([\"apo\",\"ref\",\"lig\"])\n",
    "    for line in lddt_input_val:\n",
    "        writer.writerow(line)"
   ]
  },
  {
   "cell_type": "code",
   "execution_count": 72,
   "id": "f3a96a70-e0da-4b3f-830c-e693ae95921c",
   "metadata": {},
   "outputs": [
    {
     "name": "stdout",
     "output_type": "stream",
     "text": [
      "problem with  3FZC 'NoneType' object has no attribute 'GetProp' 3FZC_top3_poses.sdf\n",
      "problem with  3FV7 'NoneType' object has no attribute 'GetProp' 3FV7_top3_poses.sdf\n"
     ]
    }
   ],
   "source": [
    "import os\n",
    "from pathlib import Path\n",
    "from rdkit import Chem\n",
    "mypath = \"pdbbind/benchmark_timesplit_20250812_090909/raw_results/timesplit/poses/\"\n",
    "Path(\"pdbbind_train_proc\").mkdir(parents=True, exist_ok=True)\n",
    "lddt_input_train = []\n",
    "for path, dirs, files in os.walk(mypath):\n",
    "    for name in (files + dirs):\n",
    "        if \"top3_poses.sdf\" in name:\n",
    "            sdfpath = os.path.join(path, name)\n",
    "            try:\n",
    "                mol = [m for m in Chem.SDMolSupplier(sdfpath) if m.GetProp(\"metric\")==\"combo\"][0]\n",
    "                pdbbind_name = path.split(\"/\")[-2]\n",
    "                sdfloc = f\"pdbbind_train_proc/{pdbbind_name}.sdf\"\n",
    "                wri = Chem.SDWriter(sdfloc)\n",
    "                wri.write(mol)\n",
    "                wri.close()\n",
    "                apoloc,_ = pdb2paths[pdbbind_name]\n",
    "                ligloc = f\"/home/processed_ligands/{pdbbind_name}.sdf\"\n",
    "                lddt_input_train.append((apoloc,ligloc,f\"/home/{sdfloc}\"))\n",
    "            except Exception as e:\n",
    "                print(\"problem with \",name[-19:-15],e,name)\n",
    "\n",
    "import csv\n",
    "with open('input_train.csv', 'w', newline='', encoding='utf-8') as csvfile:\n",
    "    writer = csv.writer(csvfile, delimiter=',',\n",
    "                            quotechar='\"', quoting=csv.QUOTE_MINIMAL,lineterminator='\\n')\n",
    "    writer.writerow([\"apo\",\"ref\",\"lig\"])\n",
    "    for line in lddt_input_train:\n",
    "        writer.writerow(line)"
   ]
  },
  {
   "cell_type": "code",
   "execution_count": 73,
   "id": "73dadb7b-1e17-4278-82cf-03d045faa61b",
   "metadata": {},
   "outputs": [],
   "source": [
    "import os\n",
    "from pathlib import Path\n",
    "from rdkit import Chem\n",
    "mypath = \"pdbbind/benchmark_timesplit_20250812_075236/raw_results/timesplit/poses/\"\n",
    "Path(\"pdbbind_test_proc\").mkdir(parents=True, exist_ok=True)\n",
    "lddt_input_test = []\n",
    "for path, dirs, files in os.walk(mypath):\n",
    "    for name in (files + dirs):\n",
    "        if \"top3_poses.sdf\" in name:\n",
    "            sdfpath = os.path.join(path, name)\n",
    "            try:\n",
    "                mol = [m for m in Chem.SDMolSupplier(sdfpath) if m.GetProp(\"metric\")==\"combo\"][0]\n",
    "                pdbbind_name = path.split(\"/\")[-2]\n",
    "                sdfloc = f\"pdbbind_test_proc/{pdbbind_name}.sdf\"\n",
    "                wri = Chem.SDWriter(sdfloc)\n",
    "                wri.write(mol)\n",
    "                wri.close()\n",
    "                apoloc,_ = pdb2paths[pdbbind_name]\n",
    "                ligloc = f\"/home/processed_ligands/{pdbbind_name}.sdf\"\n",
    "                lddt_input_test.append((apoloc,ligloc,f\"/home/{sdfloc}\"))\n",
    "            except Exception as e:\n",
    "                print(\"problem with \",name[-19:-15],e,name)\n",
    "\n",
    "import csv\n",
    "with open('input_test.csv', 'w', newline='', encoding='utf-8') as csvfile:\n",
    "    writer = csv.writer(csvfile, delimiter=',',\n",
    "                            quotechar='\"', quoting=csv.QUOTE_MINIMAL,lineterminator='\\n')\n",
    "    writer.writerow([\"apo\",\"ref\",\"lig\"])\n",
    "    for line in lddt_input_test:\n",
    "        writer.writerow(line)"
   ]
  },
  {
   "cell_type": "code",
   "execution_count": null,
   "id": "e819a3bd-2896-46b2-9755-5587af231834",
   "metadata": {},
   "outputs": [],
   "source": []
  }
 ],
 "metadata": {
  "kernelspec": {
   "display_name": "Python 3 (ipykernel)",
   "language": "python",
   "name": "python3"
  },
  "language_info": {
   "codemirror_mode": {
    "name": "ipython",
    "version": 3
   },
   "file_extension": ".py",
   "mimetype": "text/x-python",
   "name": "python",
   "nbconvert_exporter": "python",
   "pygments_lexer": "ipython3",
   "version": "3.12.2"
  }
 },
 "nbformat": 4,
 "nbformat_minor": 5
}
